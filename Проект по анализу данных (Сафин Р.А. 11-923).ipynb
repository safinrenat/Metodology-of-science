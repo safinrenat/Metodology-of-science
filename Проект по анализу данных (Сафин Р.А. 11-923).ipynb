{
 "cells": [
  {
   "cell_type": "markdown",
   "metadata": {},
   "source": [
    "##### Проект Сафина Рената (гр. 11-923)\n",
    "\n",
    "В качестве анализируемой выборки взят датасет по городам мира, включающий в себя следующую информацию:\n",
    "- страна\n",
    "- название города\n",
    "- название города (альтернативное написание)\n",
    "- регион\n",
    "- население\n",
    "- широта\n",
    "- долгота\n",
    "\n",
    "Источник:\n",
    "https://www.kaggle.com/max-mind/world-cities-database/data\n",
    "\n",
    "Сначала импортируем библиотеки, которые понадобятся для анализа выборки."
   ]
  },
  {
   "cell_type": "code",
   "execution_count": 2,
   "metadata": {
    "colab": {},
    "colab_type": "code",
    "id": "MPDgZjuQNKvB"
   },
   "outputs": [],
   "source": [
    "import warnings\n",
    "\n",
    "import numpy as np\n",
    "import pandas as pd\n",
    "from matplotlib import pyplot as plt\n",
    "\n",
    "warnings.filterwarnings('ignore')"
   ]
  },
  {
   "cell_type": "markdown",
   "metadata": {},
   "source": [
    "Импортируем и подготовим данные."
   ]
  },
  {
   "cell_type": "code",
   "execution_count": 3,
   "metadata": {
    "colab": {},
    "colab_type": "code",
    "id": "MM9S4bbbNKvO"
   },
   "outputs": [
    {
     "data": {
      "text/html": [
       "<div>\n",
       "<style scoped>\n",
       "    .dataframe tbody tr th:only-of-type {\n",
       "        vertical-align: middle;\n",
       "    }\n",
       "\n",
       "    .dataframe tbody tr th {\n",
       "        vertical-align: top;\n",
       "    }\n",
       "\n",
       "    .dataframe thead th {\n",
       "        text-align: right;\n",
       "    }\n",
       "</style>\n",
       "<table border=\"1\" class=\"dataframe\">\n",
       "  <thead>\n",
       "    <tr style=\"text-align: right;\">\n",
       "      <th></th>\n",
       "      <th>Country</th>\n",
       "      <th>City</th>\n",
       "      <th>AccentCity</th>\n",
       "      <th>Region</th>\n",
       "      <th>Population</th>\n",
       "      <th>Latitude</th>\n",
       "      <th>Longitude</th>\n",
       "    </tr>\n",
       "  </thead>\n",
       "  <tbody>\n",
       "    <tr>\n",
       "      <td>0</td>\n",
       "      <td>ad</td>\n",
       "      <td>aixas</td>\n",
       "      <td>Aixàs</td>\n",
       "      <td>6</td>\n",
       "      <td>NaN</td>\n",
       "      <td>42.483333</td>\n",
       "      <td>1.466667</td>\n",
       "    </tr>\n",
       "    <tr>\n",
       "      <td>1</td>\n",
       "      <td>ad</td>\n",
       "      <td>aixirivali</td>\n",
       "      <td>Aixirivali</td>\n",
       "      <td>6</td>\n",
       "      <td>NaN</td>\n",
       "      <td>42.466667</td>\n",
       "      <td>1.500000</td>\n",
       "    </tr>\n",
       "    <tr>\n",
       "      <td>2</td>\n",
       "      <td>ad</td>\n",
       "      <td>aixirivall</td>\n",
       "      <td>Aixirivall</td>\n",
       "      <td>6</td>\n",
       "      <td>NaN</td>\n",
       "      <td>42.466667</td>\n",
       "      <td>1.500000</td>\n",
       "    </tr>\n",
       "    <tr>\n",
       "      <td>3</td>\n",
       "      <td>ad</td>\n",
       "      <td>aixirvall</td>\n",
       "      <td>Aixirvall</td>\n",
       "      <td>6</td>\n",
       "      <td>NaN</td>\n",
       "      <td>42.466667</td>\n",
       "      <td>1.500000</td>\n",
       "    </tr>\n",
       "    <tr>\n",
       "      <td>4</td>\n",
       "      <td>ad</td>\n",
       "      <td>aixovall</td>\n",
       "      <td>Aixovall</td>\n",
       "      <td>6</td>\n",
       "      <td>NaN</td>\n",
       "      <td>42.466667</td>\n",
       "      <td>1.483333</td>\n",
       "    </tr>\n",
       "    <tr>\n",
       "      <td>...</td>\n",
       "      <td>...</td>\n",
       "      <td>...</td>\n",
       "      <td>...</td>\n",
       "      <td>...</td>\n",
       "      <td>...</td>\n",
       "      <td>...</td>\n",
       "      <td>...</td>\n",
       "    </tr>\n",
       "    <tr>\n",
       "      <td>95</td>\n",
       "      <td>ae</td>\n",
       "      <td>abu zabi</td>\n",
       "      <td>Abu Zabi</td>\n",
       "      <td>1</td>\n",
       "      <td>NaN</td>\n",
       "      <td>24.466667</td>\n",
       "      <td>54.366667</td>\n",
       "    </tr>\n",
       "    <tr>\n",
       "      <td>96</td>\n",
       "      <td>ae</td>\n",
       "      <td>abu zabye</td>\n",
       "      <td>Abu Zabye</td>\n",
       "      <td>1</td>\n",
       "      <td>NaN</td>\n",
       "      <td>24.466667</td>\n",
       "      <td>54.366667</td>\n",
       "    </tr>\n",
       "    <tr>\n",
       "      <td>97</td>\n",
       "      <td>ae</td>\n",
       "      <td>abu zabyo</td>\n",
       "      <td>Abu Zabyo</td>\n",
       "      <td>1</td>\n",
       "      <td>NaN</td>\n",
       "      <td>24.466667</td>\n",
       "      <td>54.366667</td>\n",
       "    </tr>\n",
       "    <tr>\n",
       "      <td>98</td>\n",
       "      <td>ae</td>\n",
       "      <td>ad dharbaniya</td>\n",
       "      <td>Ad Dharbaniya</td>\n",
       "      <td>5</td>\n",
       "      <td>NaN</td>\n",
       "      <td>25.783333</td>\n",
       "      <td>55.933333</td>\n",
       "    </tr>\n",
       "    <tr>\n",
       "      <td>99</td>\n",
       "      <td>ae</td>\n",
       "      <td>adgat</td>\n",
       "      <td>Adgat</td>\n",
       "      <td>4</td>\n",
       "      <td>NaN</td>\n",
       "      <td>25.498669</td>\n",
       "      <td>56.358302</td>\n",
       "    </tr>\n",
       "  </tbody>\n",
       "</table>\n",
       "<p>100 rows × 7 columns</p>\n",
       "</div>"
      ],
      "text/plain": [
       "   Country           City     AccentCity Region  Population   Latitude  \\\n",
       "0       ad          aixas          Aixàs      6         NaN  42.483333   \n",
       "1       ad     aixirivali     Aixirivali      6         NaN  42.466667   \n",
       "2       ad     aixirivall     Aixirivall      6         NaN  42.466667   \n",
       "3       ad      aixirvall      Aixirvall      6         NaN  42.466667   \n",
       "4       ad       aixovall       Aixovall      6         NaN  42.466667   \n",
       "..     ...            ...            ...    ...         ...        ...   \n",
       "95      ae       abu zabi       Abu Zabi      1         NaN  24.466667   \n",
       "96      ae      abu zabye      Abu Zabye      1         NaN  24.466667   \n",
       "97      ae      abu zabyo      Abu Zabyo      1         NaN  24.466667   \n",
       "98      ae  ad dharbaniya  Ad Dharbaniya      5         NaN  25.783333   \n",
       "99      ae          adgat          Adgat      4         NaN  25.498669   \n",
       "\n",
       "    Longitude  \n",
       "0    1.466667  \n",
       "1    1.500000  \n",
       "2    1.500000  \n",
       "3    1.500000  \n",
       "4    1.483333  \n",
       "..        ...  \n",
       "95  54.366667  \n",
       "96  54.366667  \n",
       "97  54.366667  \n",
       "98  55.933333  \n",
       "99  56.358302  \n",
       "\n",
       "[100 rows x 7 columns]"
      ]
     },
     "execution_count": 3,
     "metadata": {},
     "output_type": "execute_result"
    }
   ],
   "source": [
    "df = pd.read_csv('E:\\ИТИС\\Методология науч-исл-й\\Проект\\world-cities-database\\worldcitiespop.csv')\n",
    "df.head(100)"
   ]
  },
  {
   "cell_type": "markdown",
   "metadata": {},
   "source": [
    "Одной из наиболее естественных статистик любой выборки является __среднее арифметическое__ (или __выборочное среднее__):\n",
    "\n",
    "$$\\overline{x} = \\dfrac{1}{m} \\displaystyle\\sum_{i = 1}^m x_i.$$\n",
    "\n",
    "Выборочное среднее является оценкой для математического ожидания.\n",
    "\n",
    "Найдем выборочное среднее количества населения из датасета с помощью метода .mean"
   ]
  },
  {
   "cell_type": "code",
   "execution_count": 4,
   "metadata": {
    "colab": {},
    "colab_type": "code",
    "id": "4tPnNQLtNKwJ",
    "outputId": "ac803f70-298f-420a-9402-0f40fc385e52"
   },
   "outputs": [
    {
     "name": "stdout",
     "output_type": "stream",
     "text": [
      "47719.571\n"
     ]
    }
   ],
   "source": [
    "df['Population'].mean()\n",
    "print(f\"{df['Population'].mean():.3f}\")"
   ]
  },
  {
   "cell_type": "markdown",
   "metadata": {},
   "source": [
    "Другой важной статистикой выборки является __среднее квадратическое отклонение__:\n",
    "\n",
    "$$\\sigma = \\sqrt{\\dfrac{1}{m} \\displaystyle\\sum_{i = 1}^m (x_i - \\overline{x})^2}.$$\n",
    "\n",
    "Оно показывает уровень «разброса» элементов выборки относительно выборочного среднего.\n",
    "\n",
    "Посчитаем среднее квадратическое отклонение количества населения в городах мира."
   ]
  },
  {
   "cell_type": "code",
   "execution_count": 5,
   "metadata": {
    "colab": {},
    "colab_type": "code",
    "id": "-iwdVe-hNKwe",
    "outputId": "cee32cc3-f0fc-46c6-f107-04db37e290e1"
   },
   "outputs": [
    {
     "name": "stdout",
     "output_type": "stream",
     "text": [
      "302885.559\n"
     ]
    }
   ],
   "source": [
    "population_std = np.sqrt(((df['Population'] - df['Population'].mean()) ** 2).sum() / df['Population'].count())\n",
    "print(f\"{population_std:.3f}\")"
   ]
  },
  {
   "cell_type": "markdown",
   "metadata": {
    "colab_type": "text",
    "id": "PcpU5rPFNKwm"
   },
   "source": [
    "Эту же величину можно вычислить сразу с помощью метода `.std`."
   ]
  },
  {
   "cell_type": "code",
   "execution_count": 6,
   "metadata": {
    "colab": {},
    "colab_type": "code",
    "id": "3FvEacT6NKwo",
    "outputId": "9b2e88aa-63a2-4ca0-9dae-aa88bd688c14"
   },
   "outputs": [
    {
     "name": "stdout",
     "output_type": "stream",
     "text": [
      "302885.559\n"
     ]
    }
   ],
   "source": [
    "df['Population'].std(ddof=0)\n",
    "print(f\"{df['Population'].std(ddof=0):.3f}\")"
   ]
  },
  {
   "cell_type": "markdown",
   "metadata": {},
   "source": [
    "Дисперсию случайной величины можно оценивать средним квадратическим отклонением выборки, возведённым в квадрат:\n",
    "\n",
    "$$\\sigma^2 = \\dfrac{1}{m} \\displaystyle\\sum_{i = 1}^m (x_i - \\overline{x})^2.$$\n",
    "\n",
    "\n",
    "Такая оценка дисперсии называется __смещённой выборочной дисперсией__.\n",
    "\n",
    "Посчитаем дисперсию количества населения в городах мира."
   ]
  },
  {
   "cell_type": "code",
   "execution_count": 7,
   "metadata": {
    "colab": {},
    "colab_type": "code",
    "id": "jNZh3cbjNKw6",
    "outputId": "c0047472-442e-4426-c936-d542c79b2084"
   },
   "outputs": [
    {
     "name": "stdout",
     "output_type": "stream",
     "text": [
      "91739661974.342\n"
     ]
    }
   ],
   "source": [
    "population_variance = ((df['Population'] - df['Population'].mean()) ** 2).sum() / df['Population'].count()\n",
    "print(f\"{population_variance:.3f}\")"
   ]
  },
  {
   "cell_type": "markdown",
   "metadata": {},
   "source": [
    "__Несмещённая__ (или __исправленная__) __выборочная дисперсия__ вычисляется немного иначе:\n",
    "\n",
    "$$\\sigma_{\\text{unbiased}}^2 = \\dfrac{1}{m - 1} \\displaystyle\\sum_{i = 1}^m (x_i - \\overline{x})^2.$$\n",
    "\n",
    "Почему несмещённая?\n",
    "\n",
    "На самом деле каждый объект из выборки — это тоже случайная величина (поскольку выбирается _случайным_ образом). В таком случае и любая статистика (т.е. функция от выборки) является случайной величиной.\n",
    "\n",
    "Оценка некоторого параметра случайной величины называется __несмещённой__, если математическое ожидание этой оценки равняется реальному значению этого параметра.\n",
    "\n",
    "Например, выборочное среднее является несмещённой оценкой математического ожидания.\n",
    "\n",
    "Оказывается, среднее квадратическое отклонение, возведённое в квадрат, не является несмещённой оценкой реальной дисперсии: если берётся выборка $x = (x_1, x_2, \\dots, x_m)$ из значений случайной величины $X$, то\n",
    "\n",
    "$$M(\\sigma^2) = \\dfrac{m - 1}{m} \\cdot D(X).$$\n",
    "\n",
    "Поэтому для оценки дисперсии используется именно несмещённая выборочная дисперсия.\n",
    "\n",
    "Посчитаем несмещённую выборочную дисперсию количества населения в городах мира."
   ]
  },
  {
   "cell_type": "code",
   "execution_count": 8,
   "metadata": {
    "colab": {},
    "colab_type": "code",
    "id": "WyB-XRAeNKxQ",
    "outputId": "c3941a40-3ecc-456c-d978-5ae43d93be66"
   },
   "outputs": [
    {
     "name": "stdout",
     "output_type": "stream",
     "text": [
      "91741574053.835\n"
     ]
    }
   ],
   "source": [
    "population_variance2 = ((df['Population'] - df['Population'].mean())**2).sum() / (df['Population'].count() - 1)\n",
    "print(f\"{population_variance2:.3f}\")"
   ]
  },
  {
   "cell_type": "code",
   "execution_count": 9,
   "metadata": {},
   "outputs": [
    {
     "name": "stdout",
     "output_type": "stream",
     "text": [
      "91739661974.34230\n"
     ]
    }
   ],
   "source": [
    "print(f\"{population_variance:.5f}\")"
   ]
  },
  {
   "cell_type": "code",
   "execution_count": 10,
   "metadata": {},
   "outputs": [
    {
     "name": "stdout",
     "output_type": "stream",
     "text": [
      "1912079.493\n"
     ]
    }
   ],
   "source": [
    "abs(population_variance - population_variance2)\n",
    "print(f\"{abs(population_variance - population_variance2):.3f}\")"
   ]
  },
  {
   "cell_type": "code",
   "execution_count": 11,
   "metadata": {},
   "outputs": [
    {
     "data": {
      "text/plain": [
       "(3173958, 7)"
      ]
     },
     "execution_count": 11,
     "metadata": {},
     "output_type": "execute_result"
    }
   ],
   "source": [
    "df.shape"
   ]
  },
  {
   "cell_type": "markdown",
   "metadata": {
    "colab_type": "text",
    "id": "cscW2xopNKxi"
   },
   "source": [
    "Оценки дисперсии можно посчитать с помощью метода `.var`. Смещённая:"
   ]
  },
  {
   "cell_type": "code",
   "execution_count": 12,
   "metadata": {
    "colab": {},
    "colab_type": "code",
    "id": "RdNP_457NKxk",
    "outputId": "189e7202-ff79-414b-8699-68f508bf4140"
   },
   "outputs": [
    {
     "name": "stdout",
     "output_type": "stream",
     "text": [
      "91739661974.34288\n"
     ]
    }
   ],
   "source": [
    "df['Population'].var(ddof=0)\n",
    "print(f\"{df['Population'].var(ddof=0):.5f}\")"
   ]
  },
  {
   "cell_type": "markdown",
   "metadata": {
    "colab_type": "text",
    "id": "TJ_GG2LDNKx0"
   },
   "source": [
    "и несмещённая:"
   ]
  },
  {
   "cell_type": "code",
   "execution_count": 13,
   "metadata": {
    "colab": {},
    "colab_type": "code",
    "id": "oLdDIWUaNKx2",
    "outputId": "380d8ebb-b749-45c9-ac02-9b56296a5c46"
   },
   "outputs": [
    {
     "name": "stdout",
     "output_type": "stream",
     "text": [
      "91741574053.835\n"
     ]
    }
   ],
   "source": [
    "df['Population'].var(ddof=1)\n",
    "print(f\"{df['Population'].var(ddof=1):.3f}\")"
   ]
  },
  {
   "cell_type": "markdown",
   "metadata": {
    "colab_type": "text",
    "id": "HGAvSJ_mNKx-"
   },
   "source": [
    "Аргумент `ddof` (_Delta Degrees of Freedom_) указывает то, какую величину нужно отнять от числа наблюдений $m$, которое находится в формуле дисперсии в делителе."
   ]
  },
  {
   "cell_type": "markdown",
   "metadata": {},
   "source": [
    "### Мода,  медиана, квантиль\n",
    "\n",
    "__Мода выборки__ — наиболее часто встречающееся в выборке значение. __Мода дискретной случайной величины__ — самое вероятное её значение.\n",
    "\n",
    "Вычисление моды отличается для дискретных и _непрерывных_ случайных величин (о последних мы поговорим позже). Поэтому для примера возьмём какой-нибудь дискретный признак из наших данных. Таковым является, например, население: он в таблице представлен целыми числами.\n",
    "\n",
    "Для начала посмотрим, как часто встречаются в выборке те или иные значения количества населения. Это можно сделать с помощью метода `.value_counts`:"
   ]
  },
  {
   "cell_type": "code",
   "execution_count": 14,
   "metadata": {},
   "outputs": [
    {
     "data": {
      "text/html": [
       "<div>\n",
       "<style scoped>\n",
       "    .dataframe tbody tr th:only-of-type {\n",
       "        vertical-align: middle;\n",
       "    }\n",
       "\n",
       "    .dataframe tbody tr th {\n",
       "        vertical-align: top;\n",
       "    }\n",
       "\n",
       "    .dataframe thead th {\n",
       "        text-align: right;\n",
       "    }\n",
       "</style>\n",
       "<table border=\"1\" class=\"dataframe\">\n",
       "  <thead>\n",
       "    <tr style=\"text-align: right;\">\n",
       "      <th></th>\n",
       "      <th>Country</th>\n",
       "      <th>City</th>\n",
       "      <th>AccentCity</th>\n",
       "      <th>Region</th>\n",
       "      <th>Population</th>\n",
       "      <th>Latitude</th>\n",
       "      <th>Longitude</th>\n",
       "    </tr>\n",
       "  </thead>\n",
       "  <tbody>\n",
       "    <tr>\n",
       "      <td>0</td>\n",
       "      <td>ad</td>\n",
       "      <td>aixas</td>\n",
       "      <td>Aixàs</td>\n",
       "      <td>6</td>\n",
       "      <td>NaN</td>\n",
       "      <td>42.483333</td>\n",
       "      <td>1.466667</td>\n",
       "    </tr>\n",
       "    <tr>\n",
       "      <td>1</td>\n",
       "      <td>ad</td>\n",
       "      <td>aixirivali</td>\n",
       "      <td>Aixirivali</td>\n",
       "      <td>6</td>\n",
       "      <td>NaN</td>\n",
       "      <td>42.466667</td>\n",
       "      <td>1.500000</td>\n",
       "    </tr>\n",
       "    <tr>\n",
       "      <td>2</td>\n",
       "      <td>ad</td>\n",
       "      <td>aixirivall</td>\n",
       "      <td>Aixirivall</td>\n",
       "      <td>6</td>\n",
       "      <td>NaN</td>\n",
       "      <td>42.466667</td>\n",
       "      <td>1.500000</td>\n",
       "    </tr>\n",
       "    <tr>\n",
       "      <td>3</td>\n",
       "      <td>ad</td>\n",
       "      <td>aixirvall</td>\n",
       "      <td>Aixirvall</td>\n",
       "      <td>6</td>\n",
       "      <td>NaN</td>\n",
       "      <td>42.466667</td>\n",
       "      <td>1.500000</td>\n",
       "    </tr>\n",
       "    <tr>\n",
       "      <td>4</td>\n",
       "      <td>ad</td>\n",
       "      <td>aixovall</td>\n",
       "      <td>Aixovall</td>\n",
       "      <td>6</td>\n",
       "      <td>NaN</td>\n",
       "      <td>42.466667</td>\n",
       "      <td>1.483333</td>\n",
       "    </tr>\n",
       "  </tbody>\n",
       "</table>\n",
       "</div>"
      ],
      "text/plain": [
       "  Country        City  AccentCity Region  Population   Latitude  Longitude\n",
       "0      ad       aixas       Aixàs      6         NaN  42.483333   1.466667\n",
       "1      ad  aixirivali  Aixirivali      6         NaN  42.466667   1.500000\n",
       "2      ad  aixirivall  Aixirivall      6         NaN  42.466667   1.500000\n",
       "3      ad   aixirvall   Aixirvall      6         NaN  42.466667   1.500000\n",
       "4      ad    aixovall    Aixovall      6         NaN  42.466667   1.483333"
      ]
     },
     "execution_count": 14,
     "metadata": {},
     "output_type": "execute_result"
    }
   ],
   "source": [
    "df.head()"
   ]
  },
  {
   "cell_type": "code",
   "execution_count": 15,
   "metadata": {
    "scrolled": true
   },
   "outputs": [
    {
     "data": {
      "text/plain": [
       "2310.0     12\n",
       "2230.0     11\n",
       "2684.0     11\n",
       "2137.0     11\n",
       "3097.0     11\n",
       "           ..\n",
       "26282.0     1\n",
       "26287.0     1\n",
       "26288.0     1\n",
       "26289.0     1\n",
       "512.0       1\n",
       "Name: Population, Length: 28753, dtype: int64"
      ]
     },
     "execution_count": 15,
     "metadata": {},
     "output_type": "execute_result"
    }
   ],
   "source": [
    "df['Population'].value_counts()"
   ]
  },
  {
   "cell_type": "markdown",
   "metadata": {},
   "source": [
    "Чаще всего встречается значение 2310. Это и есть мода. Её можно также посчитать с помощью метода `.mode`:"
   ]
  },
  {
   "cell_type": "code",
   "execution_count": 16,
   "metadata": {},
   "outputs": [
    {
     "data": {
      "text/plain": [
       "0    2310.0\n",
       "dtype: float64"
      ]
     },
     "execution_count": 16,
     "metadata": {},
     "output_type": "execute_result"
    }
   ],
   "source": [
    "df['Population'].mode()"
   ]
  },
  {
   "cell_type": "code",
   "execution_count": 17,
   "metadata": {
    "scrolled": true
   },
   "outputs": [
    {
     "data": {
      "text/html": [
       "<div>\n",
       "<style scoped>\n",
       "    .dataframe tbody tr th:only-of-type {\n",
       "        vertical-align: middle;\n",
       "    }\n",
       "\n",
       "    .dataframe tbody tr th {\n",
       "        vertical-align: top;\n",
       "    }\n",
       "\n",
       "    .dataframe thead th {\n",
       "        text-align: right;\n",
       "    }\n",
       "</style>\n",
       "<table border=\"1\" class=\"dataframe\">\n",
       "  <thead>\n",
       "    <tr style=\"text-align: right;\">\n",
       "      <th></th>\n",
       "      <th>Country</th>\n",
       "      <th>City</th>\n",
       "      <th>AccentCity</th>\n",
       "      <th>Region</th>\n",
       "      <th>Population</th>\n",
       "      <th>Latitude</th>\n",
       "      <th>Longitude</th>\n",
       "    </tr>\n",
       "  </thead>\n",
       "  <tbody>\n",
       "    <tr>\n",
       "      <td>0</td>\n",
       "      <td>cn</td>\n",
       "      <td>san jose</td>\n",
       "      <td>San Antonio</td>\n",
       "      <td>7</td>\n",
       "      <td>2310.0</td>\n",
       "      <td>51.15</td>\n",
       "      <td>23.8</td>\n",
       "    </tr>\n",
       "  </tbody>\n",
       "</table>\n",
       "</div>"
      ],
      "text/plain": [
       "  Country      City   AccentCity Region  Population  Latitude  Longitude\n",
       "0      cn  san jose  San Antonio      7      2310.0     51.15       23.8"
      ]
     },
     "execution_count": 17,
     "metadata": {},
     "output_type": "execute_result"
    }
   ],
   "source": [
    "df.mode()"
   ]
  },
  {
   "cell_type": "markdown",
   "metadata": {},
   "source": [
    "__Медиана выборки__ — такое значение $a$, что хотя бы половина элементов из выборки меньше, либо равна $a$, и, соответственно, хотя бы половина больше, либо равна $a$.\n",
    "\n",
    "Посчитаем медиану количества населения в городах мира. Для начала воспользуемся определением. В таком случае нам достаточно отсортировать значения из выборки и взять середину этого массива."
   ]
  },
  {
   "cell_type": "code",
   "execution_count": 18,
   "metadata": {},
   "outputs": [
    {
     "data": {
      "text/plain": [
       "3173958"
      ]
     },
     "execution_count": 18,
     "metadata": {},
     "output_type": "execute_result"
    }
   ],
   "source": [
    "population = sorted(df['Population'])\n",
    "\n",
    "len(population)"
   ]
  },
  {
   "cell_type": "code",
   "execution_count": 19,
   "metadata": {},
   "outputs": [
    {
     "data": {
      "text/plain": [
       "[nan, nan, nan, nan, nan, nan, 20430.0, nan, nan, nan, nan, nan, nan, nan, nan]"
      ]
     },
     "execution_count": 19,
     "metadata": {},
     "output_type": "execute_result"
    }
   ],
   "source": [
    "population[:15]"
   ]
  },
  {
   "cell_type": "markdown",
   "metadata": {},
   "source": [
    "Выведем несколько значений вокруг середины этого массива."
   ]
  },
  {
   "cell_type": "code",
   "execution_count": 20,
   "metadata": {},
   "outputs": [
    {
     "data": {
      "text/plain": [
       "[nan, nan, nan, nan, nan, nan, nan, nan, nan, nan]"
      ]
     },
     "execution_count": 20,
     "metadata": {},
     "output_type": "execute_result"
    }
   ],
   "source": [
    "length = len(population)\n",
    "\n",
    "population[length // 2 - 5 : length // 2 + 5]"
   ]
  },
  {
   "cell_type": "markdown",
   "metadata": {},
   "source": [
    "Как мы видим, в середине массива находятся города с отсутствующими данными по населению. Поэтому данный способ нахождения медианы в данном случае не работает. Воспользуемся встроенной функцией .median() для определения медианнного значения анализируемой выборки"
   ]
  },
  {
   "cell_type": "code",
   "execution_count": 21,
   "metadata": {},
   "outputs": [
    {
     "data": {
      "text/plain": [
       "10779.0"
      ]
     },
     "execution_count": 21,
     "metadata": {},
     "output_type": "execute_result"
    }
   ],
   "source": [
    "df['Population'].median()"
   ]
  },
  {
   "cell_type": "markdown",
   "metadata": {},
   "source": [
    "В случаях, когда число элементов в выборке нечётно, медианой является значение, которое стоит ровно посередине отсортированного массива. Если же в массиве чётное число значений, ровную середину посчитать невозможно, поэтому медианой может служить любое значение между крайним правым значением левой половины и крайним левым значением правой половины."
   ]
  },
  {
   "cell_type": "markdown",
   "metadata": {},
   "source": [
    "Понятие __квантиля__ обобщает понятие медианы. Если $\\alpha \\in (0, 1)$, то __квантилем порядка $\\alpha$ случайной величины $X$__ называется такое значение $X_\\alpha$, что\n",
    "\n",
    "$$P(X \\leq X_\\alpha) \\geq \\alpha, \\: P(X \\geq X_\\alpha) \\geq 1 - \\alpha.$$\n",
    "\n",
    "В случае выборки это означает, что хотя бы доля $\\alpha$ от всех значений выборки оказываются меньше, либо равны $X_\\alpha$ и, наоборот, хотя бы доля $1 - \\alpha$ от значений больше, либо равны $X_\\alpha$.\n",
    "\n",
    "Использование квантилей позволяет в некотором смысле «обратить» функцию вероятности.\n",
    "\n",
    "Прямая задача выглядит следующим образом: имеется случайная величина $X$ и пороговое значение $t$. Требуется найти вероятность того, что случайная величина $X$ не превосходит значения $t$.\n",
    "\n",
    "Часто в задачах математической статистики требуется решить обратную задачу: имеется случайная величина $X$ и значение вероятности $\\alpha \\in (0, 1)$. Требуется найти пороговое значение $t$, такое, что $P(X \\leq t) = \\alpha$.\n",
    "Это и есть квантиль порядка $\\alpha$.\n",
    "\n",
    "В частности, медиана является квантилем порядка $0.5$. Кроме того, часто используют\n",
    "\n",
    "* __первый квартиль__ — квантиль порядка $0.25$ (т.е. значение, которое не превышают $25 \\%$ значений из выборки),\n",
    "* __второй квартиль__ — то же, что и медиана,\n",
    "* __третий квартиль__ — квантиль порядка $0.75$.\n",
    "\n",
    "Квантили можно посчитать с помощью метода `.quantile`:\n",
    "\n",
    "Посчитаем первый и третий квартили значений населения городов мира. Вычисления аналогичны случаю вычисления медианы, однако нам нужно делить массив не в пропорции $1 : 1$, а в пропорции $\\alpha : (1 - \\alpha)$. Например, первый квартиль:"
   ]
  },
  {
   "cell_type": "code",
   "execution_count": 22,
   "metadata": {},
   "outputs": [
    {
     "data": {
      "text/plain": [
       "[nan, nan, nan, nan, nan, nan, nan, nan, nan, nan]"
      ]
     },
     "execution_count": 22,
     "metadata": {},
     "output_type": "execute_result"
    }
   ],
   "source": [
    "population[length // 4 - 5 : length // 4 + 5]"
   ]
  },
  {
   "cell_type": "code",
   "execution_count": 23,
   "metadata": {},
   "outputs": [
    {
     "data": {
      "text/plain": [
       "3732.0"
      ]
     },
     "execution_count": 23,
     "metadata": {},
     "output_type": "execute_result"
    }
   ],
   "source": [
    "df['Population'].quantile(0.25)"
   ]
  },
  {
   "cell_type": "markdown",
   "metadata": {},
   "source": [
    "Третий квартиль:"
   ]
  },
  {
   "cell_type": "code",
   "execution_count": 24,
   "metadata": {},
   "outputs": [
    {
     "data": {
      "text/plain": [
       "[nan, nan, nan, nan, nan, nan, nan, nan, nan, nan]"
      ]
     },
     "execution_count": 24,
     "metadata": {},
     "output_type": "execute_result"
    }
   ],
   "source": [
    "population[length * 3 // 4 - 5 : length * 3// 4 + 5]"
   ]
  },
  {
   "cell_type": "code",
   "execution_count": 25,
   "metadata": {},
   "outputs": [
    {
     "data": {
      "text/plain": [
       "27990.5"
      ]
     },
     "execution_count": 25,
     "metadata": {},
     "output_type": "execute_result"
    }
   ],
   "source": [
    "df['Population'].quantile(0.75)"
   ]
  },
  {
   "cell_type": "markdown",
   "metadata": {},
   "source": [
    "В этот метод можно подать список значений, тогда посчитаются различные квантили:"
   ]
  },
  {
   "cell_type": "code",
   "execution_count": 26,
   "metadata": {},
   "outputs": [
    {
     "data": {
      "text/plain": [
       "0.25     3732.0\n",
       "0.50    10779.0\n",
       "0.75    27990.5\n",
       "Name: Population, dtype: float64"
      ]
     },
     "execution_count": 26,
     "metadata": {},
     "output_type": "execute_result"
    }
   ],
   "source": [
    "df['Population'].quantile([0.25, 0.5, 0.75])"
   ]
  },
  {
   "cell_type": "markdown",
   "metadata": {},
   "source": [
    "__Интерквартильный размах__ — это отрезок между первым и третьим квартилями. Это отрезок, в который попадают $50 \\%$ значений выборки.\n",
    "\n",
    "Интерквартильный размах используется для измерения разброса значений выборки вокруг среднего. Иногда его использование оказывается более предпочтительным, чем использование среднего квадратического отклонения, поскольку не учитывает выбросы в данных.\n",
    "\n",
    "Например, в наших данных интерквартильный размах — это отрезок от $180$ до $188$. _Интерквартильное расстояние_ в этом случае равно $8$.\n",
    "\n",
    "В зависимости от задачи и удобства могут также встречаться __децили__ и __перцентили__.\n",
    "\n",
    "__Децили__ — то же, что и квартили, но делим мы не на $4$ части, а на $10$. Например, медиана будет _пятым децилем_.\n",
    "\n",
    "__Перцентили__ — это просто другой способ задать квантиль. Здесь мы используем не долю $\\alpha \\in (0, 1)$, а процент. Например, третий квартиль будет $75$-перцентилем."
   ]
  },
  {
   "cell_type": "code",
   "execution_count": 27,
   "metadata": {},
   "outputs": [],
   "source": [
    "list_ = [1] * 1000 + [10000]"
   ]
  },
  {
   "cell_type": "code",
   "execution_count": 28,
   "metadata": {},
   "outputs": [
    {
     "data": {
      "text/plain": [
       "10.989010989010989"
      ]
     },
     "execution_count": 28,
     "metadata": {},
     "output_type": "execute_result"
    }
   ],
   "source": [
    "np.mean(list_)"
   ]
  },
  {
   "cell_type": "code",
   "execution_count": 29,
   "metadata": {},
   "outputs": [
    {
     "data": {
      "text/plain": [
       "316.03816364344493"
      ]
     },
     "execution_count": 29,
     "metadata": {},
     "output_type": "execute_result"
    }
   ],
   "source": [
    "np.std(list_, ddof=1)"
   ]
  },
  {
   "cell_type": "code",
   "execution_count": 30,
   "metadata": {},
   "outputs": [
    {
     "data": {
      "text/plain": [
       "array([1., 1.])"
      ]
     },
     "execution_count": 30,
     "metadata": {},
     "output_type": "execute_result"
    }
   ],
   "source": [
    "np.quantile(list_, [0.25, 0.75])"
   ]
  },
  {
   "cell_type": "markdown",
   "metadata": {
    "colab_type": "text",
    "id": "PNmx54fYNKyY"
   },
   "source": [
    "### Графическое представление данных\n",
    "\n",
    "Для визуализации распределения значений выборки часто используется гистограмма. Как строится гистограмма?\n",
    "\n",
    "1. По оси $x$ откладываются всевозможные значения из выборки. \n",
    "2. Вся ось разбивается на какое-то заданное число одинаковых отрезков.\n",
    "3. Для каждого отрезка вычисляется число значений выборки, которые лежат в этом отрезке, и это число откладывается по оси $y$.\n",
    "\n",
    "Построим гистограмму значений населения городов мира. Для этого можно использовать метод `.hist`. В качестве аргумента `bins` сюда подаётся то число одинаковых отрезков, на которое мы разбиваем ось $x$."
   ]
  },
  {
   "cell_type": "code",
   "execution_count": 31,
   "metadata": {},
   "outputs": [
    {
     "data": {
      "text/plain": [
       "(array([4.7922e+04, 3.5000e+01, 1.2000e+01, 8.0000e+00, 2.0000e+00,\n",
       "        0.0000e+00, 0.0000e+00, 0.0000e+00, 0.0000e+00, 1.0000e+00]),\n",
       " array([7.00000000e+00, 3.14805610e+06, 6.29610520e+06, 9.44415430e+06,\n",
       "        1.25922034e+07, 1.57402525e+07, 1.88883016e+07, 2.20363507e+07,\n",
       "        2.51843998e+07, 2.83324489e+07, 3.14804980e+07]),\n",
       " <a list of 10 Patch objects>)"
      ]
     },
     "execution_count": 31,
     "metadata": {},
     "output_type": "execute_result"
    },
    {
     "data": {
      "image/png": "[encoded data removed]",
      "text/plain": [
       "<Figure size 432x288 with 1 Axes>"
      ]
     },
     "metadata": {
      "needs_background": "light"
     },
     "output_type": "display_data"
    }
   ],
   "source": [
    "plt.hist(df['Population'])"
   ]
  },
  {
   "cell_type": "code",
   "execution_count": 32,
   "metadata": {},
   "outputs": [
    {
     "data": {
      "text/plain": [
       "<matplotlib.axes._subplots.AxesSubplot at 0x20627fa3e88>"
      ]
     },
     "execution_count": 32,
     "metadata": {},
     "output_type": "execute_result"
    },
    {
     "data": {
      "image/png": "[encoded data removed]",
      "text/plain": [
       "<Figure size 432x288 with 1 Axes>"
      ]
     },
     "metadata": {
      "needs_background": "light"
     },
     "output_type": "display_data"
    }
   ],
   "source": [
    "df['Population'].hist()"
   ]
  },
  {
   "cell_type": "markdown",
   "metadata": {
    "colab_type": "text",
    "collapsed": true,
    "id": "KwJ_RM31NKyo"
   },
   "source": [
    "Построим гистограмму ещё раз, указав в качестве аргумента `bins` число $5$, чтобы получить более детальную картину:"
   ]
  },
  {
   "cell_type": "code",
   "execution_count": 38,
   "metadata": {},
   "outputs": [
    {
     "data": {
      "text/plain": [
       "<matplotlib.axes._subplots.AxesSubplot at 0x206292b0dc8>"
      ]
     },
     "execution_count": 38,
     "metadata": {},
     "output_type": "execute_result"
    },
    {
     "data": {
      "image/png": "[encoded data removed]",
      "text/plain": [
       "<Figure size 432x288 with 1 Axes>"
      ]
     },
     "metadata": {
      "needs_background": "light"
     },
     "output_type": "display_data"
    }
   ],
   "source": [
    "df['Population'].hist(bins=5)"
   ]
  },
  {
   "cell_type": "code",
   "execution_count": 39,
   "metadata": {},
   "outputs": [
    {
     "data": {
      "text/plain": [
       "<matplotlib.axes._subplots.AxesSubplot at 0x2062932bdc8>"
      ]
     },
     "execution_count": 39,
     "metadata": {},
     "output_type": "execute_result"
    },
    {
     "data": {
      "image/png": "[encoded data removed]",
      "text/plain": [
       "<Figure size 432x288 with 1 Axes>"
      ]
     },
     "metadata": {
      "needs_background": "light"
     },
     "output_type": "display_data"
    }
   ],
   "source": [
    "df['Population'].hist(bins=50)"
   ]
  },
  {
   "cell_type": "markdown",
   "metadata": {},
   "source": [
    "Другой способ визуализировать одномерные данные — __boxplot__ или __ящик с усами__. В самом ящике отмечены квартили $Q1$, $Q2$ (медиана), $Q3$. «Усы» здесь — границы отрезка\n",
    "$$\\left[ Q1 - 1.5 \\times IQR, \\: Q3 + 1.5 \\times IQR \\right],$$\n",
    "где $IQR$ — интерквартильное расстояние.\n",
    "\n",
    "Построим `boxplot` населения городов мира."
   ]
  },
  {
   "cell_type": "code",
   "execution_count": 40,
   "metadata": {},
   "outputs": [
    {
     "data": {
      "text/plain": [
       "<matplotlib.axes._subplots.AxesSubplot at 0x20629354ec8>"
      ]
     },
     "execution_count": 40,
     "metadata": {},
     "output_type": "execute_result"
    },
    {
     "data": {
      "image/png": "[encoded data removed]",
      "text/plain": [
       "<Figure size 432x288 with 1 Axes>"
      ]
     },
     "metadata": {
      "needs_background": "light"
     },
     "output_type": "display_data"
    }
   ],
   "source": [
    "df[['Population']].boxplot()"
   ]
  },
  {
   "cell_type": "markdown",
   "metadata": {},
   "source": [
    "Всё, что выходит за границы этого отрезка, считается выбросами (отмечены кружками). Посчитаем, сколько значений населения городов оказалось за пределами «усов»."
   ]
  },
  {
   "cell_type": "code",
   "execution_count": 41,
   "metadata": {},
   "outputs": [
    {
     "data": {
      "text/plain": [
       "(-32655.75, 64378.25)"
      ]
     },
     "execution_count": 41,
     "metadata": {},
     "output_type": "execute_result"
    }
   ],
   "source": [
    "q1 = df['Population'].quantile(0.25)\n",
    "q3 = df['Population'].quantile(0.75)\n",
    "\n",
    "iqr = q3 - q1\n",
    "\n",
    "boxplot_range = (q1 - 1.5 * iqr, q3 + 1.5 * iqr)\n",
    "boxplot_range"
   ]
  },
  {
   "cell_type": "code",
   "execution_count": 42,
   "metadata": {},
   "outputs": [
    {
     "data": {
      "text/plain": [
       "5695"
      ]
     },
     "execution_count": 42,
     "metadata": {},
     "output_type": "execute_result"
    }
   ],
   "source": [
    "outliers = df.loc[(df['Population'] < boxplot_range[0]) | (df['Population'] > boxplot_range[1])]\n",
    "\n",
    "outliers.shape[0]"
   ]
  },
  {
   "cell_type": "code",
   "execution_count": 43,
   "metadata": {},
   "outputs": [
    {
     "data": {
      "text/html": [
       "<div>\n",
       "<style scoped>\n",
       "    .dataframe tbody tr th:only-of-type {\n",
       "        vertical-align: middle;\n",
       "    }\n",
       "\n",
       "    .dataframe tbody tr th {\n",
       "        vertical-align: top;\n",
       "    }\n",
       "\n",
       "    .dataframe thead th {\n",
       "        text-align: right;\n",
       "    }\n",
       "</style>\n",
       "<table border=\"1\" class=\"dataframe\">\n",
       "  <thead>\n",
       "    <tr style=\"text-align: right;\">\n",
       "      <th></th>\n",
       "      <th>Country</th>\n",
       "      <th>City</th>\n",
       "      <th>AccentCity</th>\n",
       "      <th>Region</th>\n",
       "      <th>Population</th>\n",
       "      <th>Latitude</th>\n",
       "      <th>Longitude</th>\n",
       "    </tr>\n",
       "  </thead>\n",
       "  <tbody>\n",
       "    <tr>\n",
       "      <td>93</td>\n",
       "      <td>ae</td>\n",
       "      <td>abu dhabi</td>\n",
       "      <td>Abu Dhabi</td>\n",
       "      <td>1</td>\n",
       "      <td>603687.0</td>\n",
       "      <td>24.466667</td>\n",
       "      <td>54.366667</td>\n",
       "    </tr>\n",
       "    <tr>\n",
       "      <td>242</td>\n",
       "      <td>ae</td>\n",
       "      <td>dubai</td>\n",
       "      <td>Dubai</td>\n",
       "      <td>3</td>\n",
       "      <td>1137376.0</td>\n",
       "      <td>25.258172</td>\n",
       "      <td>55.304717</td>\n",
       "    </tr>\n",
       "    <tr>\n",
       "      <td>490</td>\n",
       "      <td>ae</td>\n",
       "      <td>sharjah</td>\n",
       "      <td>Sharjah</td>\n",
       "      <td>6</td>\n",
       "      <td>543942.0</td>\n",
       "      <td>25.357310</td>\n",
       "      <td>55.403304</td>\n",
       "    </tr>\n",
       "    <tr>\n",
       "      <td>6644</td>\n",
       "      <td>af</td>\n",
       "      <td>baglan</td>\n",
       "      <td>Baglan</td>\n",
       "      <td>3</td>\n",
       "      <td>108481.0</td>\n",
       "      <td>36.130684</td>\n",
       "      <td>68.708286</td>\n",
       "    </tr>\n",
       "    <tr>\n",
       "      <td>24457</td>\n",
       "      <td>af</td>\n",
       "      <td>gardez</td>\n",
       "      <td>Gardez</td>\n",
       "      <td>36</td>\n",
       "      <td>103732.0</td>\n",
       "      <td>33.597439</td>\n",
       "      <td>69.225922</td>\n",
       "    </tr>\n",
       "    <tr>\n",
       "      <td>...</td>\n",
       "      <td>...</td>\n",
       "      <td>...</td>\n",
       "      <td>...</td>\n",
       "      <td>...</td>\n",
       "      <td>...</td>\n",
       "      <td>...</td>\n",
       "      <td>...</td>\n",
       "    </tr>\n",
       "    <tr>\n",
       "      <td>3173161</td>\n",
       "      <td>zw</td>\n",
       "      <td>kwekwe</td>\n",
       "      <td>Kwekwe</td>\n",
       "      <td>4</td>\n",
       "      <td>116332.0</td>\n",
       "      <td>-18.916667</td>\n",
       "      <td>29.816667</td>\n",
       "    </tr>\n",
       "    <tr>\n",
       "      <td>3173312</td>\n",
       "      <td>zw</td>\n",
       "      <td>marondera</td>\n",
       "      <td>Marondera</td>\n",
       "      <td>4</td>\n",
       "      <td>82294.0</td>\n",
       "      <td>-18.183333</td>\n",
       "      <td>31.550000</td>\n",
       "    </tr>\n",
       "    <tr>\n",
       "      <td>3173329</td>\n",
       "      <td>zw</td>\n",
       "      <td>masvingo</td>\n",
       "      <td>Masvingo</td>\n",
       "      <td>7</td>\n",
       "      <td>86772.0</td>\n",
       "      <td>-20.083333</td>\n",
       "      <td>30.833333</td>\n",
       "    </tr>\n",
       "    <tr>\n",
       "      <td>3173478</td>\n",
       "      <td>zw</td>\n",
       "      <td>mutare</td>\n",
       "      <td>Mutare</td>\n",
       "      <td>4</td>\n",
       "      <td>253449.0</td>\n",
       "      <td>-18.966667</td>\n",
       "      <td>32.666667</td>\n",
       "    </tr>\n",
       "    <tr>\n",
       "      <td>3173957</td>\n",
       "      <td>zw</td>\n",
       "      <td>zvishavane</td>\n",
       "      <td>Zvishavane</td>\n",
       "      <td>7</td>\n",
       "      <td>79876.0</td>\n",
       "      <td>-20.333333</td>\n",
       "      <td>30.033333</td>\n",
       "    </tr>\n",
       "  </tbody>\n",
       "</table>\n",
       "<p>5695 rows × 7 columns</p>\n",
       "</div>"
      ],
      "text/plain": [
       "        Country        City  AccentCity Region  Population   Latitude  \\\n",
       "93           ae   abu dhabi   Abu Dhabi      1    603687.0  24.466667   \n",
       "242          ae       dubai       Dubai      3   1137376.0  25.258172   \n",
       "490          ae     sharjah     Sharjah      6    543942.0  25.357310   \n",
       "6644         af      baglan      Baglan      3    108481.0  36.130684   \n",
       "24457        af      gardez      Gardez     36    103732.0  33.597439   \n",
       "...         ...         ...         ...    ...         ...        ...   \n",
       "3173161      zw      kwekwe      Kwekwe      4    116332.0 -18.916667   \n",
       "3173312      zw   marondera   Marondera      4     82294.0 -18.183333   \n",
       "3173329      zw    masvingo    Masvingo      7     86772.0 -20.083333   \n",
       "3173478      zw      mutare      Mutare      4    253449.0 -18.966667   \n",
       "3173957      zw  zvishavane  Zvishavane      7     79876.0 -20.333333   \n",
       "\n",
       "         Longitude  \n",
       "93       54.366667  \n",
       "242      55.304717  \n",
       "490      55.403304  \n",
       "6644     68.708286  \n",
       "24457    69.225922  \n",
       "...            ...  \n",
       "3173161  29.816667  \n",
       "3173312  31.550000  \n",
       "3173329  30.833333  \n",
       "3173478  32.666667  \n",
       "3173957  30.033333  \n",
       "\n",
       "[5695 rows x 7 columns]"
      ]
     },
     "execution_count": 43,
     "metadata": {},
     "output_type": "execute_result"
    }
   ],
   "source": [
    "outliers"
   ]
  },
  {
   "cell_type": "markdown",
   "metadata": {},
   "source": [
    "Доля выбросов:"
   ]
  },
  {
   "cell_type": "code",
   "execution_count": 45,
   "metadata": {},
   "outputs": [
    {
     "data": {
      "text/plain": [
       "0.001794289653486278"
      ]
     },
     "execution_count": 45,
     "metadata": {},
     "output_type": "execute_result"
    }
   ],
   "source": [
    "outliers.shape[0] / df.shape[0]"
   ]
  },
  {
   "cell_type": "markdown",
   "metadata": {},
   "source": [
    "\n",
    "\n",
    "### Взаимосвязь величин. Параметрические и непараметрические показатели корреляции.  Корреляционный анализ\n",
    "\n",
    "__Корреляция__ — математический показатель, по которому можно судить, есть ли статистическая взаимосвязь между двумя и более случайными величинами.\n",
    "\n",
    "__Коэффициент корреляции__ принимает значения из отрезка $[-1, 1]$.\n",
    "\n",
    "Если коэффициент корреляции близок к $1$, то между величинами наблюдается прямая связь: увеличение одной величины сопровождается увеличением другой, а уменьшение одной — уменьшением другой.\n",
    "\n",
    "Если же коэффициент корреляции близок к $-1$, то между величинами есть обратная корреляционная связь: увеличение одной величины сопровождается уменьшением другой и наоборот.\n",
    "\n",
    "Коэффициент корреляции, равный $0$, говорит о том, что между величинами нет связи, то есть величины изменяются независимо друг от друга.\n",
    "\n",
    "Посчитаем корреляцию координат городов (широты и долготы). Это можно сделать с помощью метода `.corr`, который есть у объектов `DataFrame`."
   ]
  },
  {
   "cell_type": "code",
   "execution_count": 46,
   "metadata": {},
   "outputs": [
    {
     "data": {
      "text/html": [
       "<div>\n",
       "<style scoped>\n",
       "    .dataframe tbody tr th:only-of-type {\n",
       "        vertical-align: middle;\n",
       "    }\n",
       "\n",
       "    .dataframe tbody tr th {\n",
       "        vertical-align: top;\n",
       "    }\n",
       "\n",
       "    .dataframe thead th {\n",
       "        text-align: right;\n",
       "    }\n",
       "</style>\n",
       "<table border=\"1\" class=\"dataframe\">\n",
       "  <thead>\n",
       "    <tr style=\"text-align: right;\">\n",
       "      <th></th>\n",
       "      <th>Latitude</th>\n",
       "      <th>Longitude</th>\n",
       "    </tr>\n",
       "  </thead>\n",
       "  <tbody>\n",
       "    <tr>\n",
       "      <td>Latitude</td>\n",
       "      <td>1.000000</td>\n",
       "      <td>-0.041037</td>\n",
       "    </tr>\n",
       "    <tr>\n",
       "      <td>Longitude</td>\n",
       "      <td>-0.041037</td>\n",
       "      <td>1.000000</td>\n",
       "    </tr>\n",
       "  </tbody>\n",
       "</table>\n",
       "</div>"
      ],
      "text/plain": [
       "           Latitude  Longitude\n",
       "Latitude   1.000000  -0.041037\n",
       "Longitude -0.041037   1.000000"
      ]
     },
     "execution_count": 46,
     "metadata": {},
     "output_type": "execute_result"
    }
   ],
   "source": [
    "df[['Latitude', 'Longitude']].corr()"
   ]
  },
  {
   "cell_type": "markdown",
   "metadata": {},
   "source": [
    "В результате получается матрица корреляций. Мы видим, что корреляция широты и долготы местоположения городов стремитися к нулю. Можно сделать вывод, что между этими показателями отсутствует корреляция.\n",
    "\n",
    "Попробуем найти корреляцию этих признаков с количеством населения:"
   ]
  },
  {
   "cell_type": "code",
   "execution_count": 48,
   "metadata": {},
   "outputs": [
    {
     "data": {
      "text/html": [
       "<div>\n",
       "<style scoped>\n",
       "    .dataframe tbody tr th:only-of-type {\n",
       "        vertical-align: middle;\n",
       "    }\n",
       "\n",
       "    .dataframe tbody tr th {\n",
       "        vertical-align: top;\n",
       "    }\n",
       "\n",
       "    .dataframe thead th {\n",
       "        text-align: right;\n",
       "    }\n",
       "</style>\n",
       "<table border=\"1\" class=\"dataframe\">\n",
       "  <thead>\n",
       "    <tr style=\"text-align: right;\">\n",
       "      <th></th>\n",
       "      <th>Latitude</th>\n",
       "      <th>Longitude</th>\n",
       "      <th>Population</th>\n",
       "    </tr>\n",
       "  </thead>\n",
       "  <tbody>\n",
       "    <tr>\n",
       "      <td>Latitude</td>\n",
       "      <td>1.000000</td>\n",
       "      <td>-0.041037</td>\n",
       "      <td>-0.043666</td>\n",
       "    </tr>\n",
       "    <tr>\n",
       "      <td>Longitude</td>\n",
       "      <td>-0.041037</td>\n",
       "      <td>1.000000</td>\n",
       "      <td>0.033415</td>\n",
       "    </tr>\n",
       "    <tr>\n",
       "      <td>Population</td>\n",
       "      <td>-0.043666</td>\n",
       "      <td>0.033415</td>\n",
       "      <td>1.000000</td>\n",
       "    </tr>\n",
       "  </tbody>\n",
       "</table>\n",
       "</div>"
      ],
      "text/plain": [
       "            Latitude  Longitude  Population\n",
       "Latitude    1.000000  -0.041037   -0.043666\n",
       "Longitude  -0.041037   1.000000    0.033415\n",
       "Population -0.043666   0.033415    1.000000"
      ]
     },
     "execution_count": 48,
     "metadata": {},
     "output_type": "execute_result"
    }
   ],
   "source": [
    "df[['Latitude', 'Longitude', 'Population']].corr()"
   ]
  },
  {
   "cell_type": "code",
   "execution_count": 49,
   "metadata": {},
   "outputs": [
    {
     "data": {
      "text/html": [
       "<div>\n",
       "<style scoped>\n",
       "    .dataframe tbody tr th:only-of-type {\n",
       "        vertical-align: middle;\n",
       "    }\n",
       "\n",
       "    .dataframe tbody tr th {\n",
       "        vertical-align: top;\n",
       "    }\n",
       "\n",
       "    .dataframe thead th {\n",
       "        text-align: right;\n",
       "    }\n",
       "</style>\n",
       "<table border=\"1\" class=\"dataframe\">\n",
       "  <thead>\n",
       "    <tr style=\"text-align: right;\">\n",
       "      <th></th>\n",
       "      <th>Population</th>\n",
       "      <th>Latitude</th>\n",
       "      <th>Longitude</th>\n",
       "    </tr>\n",
       "  </thead>\n",
       "  <tbody>\n",
       "    <tr>\n",
       "      <td>count</td>\n",
       "      <td>4.798000e+04</td>\n",
       "      <td>3.173958e+06</td>\n",
       "      <td>3.173958e+06</td>\n",
       "    </tr>\n",
       "    <tr>\n",
       "      <td>mean</td>\n",
       "      <td>4.771957e+04</td>\n",
       "      <td>2.718817e+01</td>\n",
       "      <td>3.708886e+01</td>\n",
       "    </tr>\n",
       "    <tr>\n",
       "      <td>std</td>\n",
       "      <td>3.028887e+05</td>\n",
       "      <td>2.195262e+01</td>\n",
       "      <td>6.322302e+01</td>\n",
       "    </tr>\n",
       "    <tr>\n",
       "      <td>min</td>\n",
       "      <td>7.000000e+00</td>\n",
       "      <td>-5.493333e+01</td>\n",
       "      <td>-1.799833e+02</td>\n",
       "    </tr>\n",
       "    <tr>\n",
       "      <td>25%</td>\n",
       "      <td>3.732000e+03</td>\n",
       "      <td>1.163333e+01</td>\n",
       "      <td>7.303175e+00</td>\n",
       "    </tr>\n",
       "    <tr>\n",
       "      <td>50%</td>\n",
       "      <td>1.077900e+04</td>\n",
       "      <td>3.249722e+01</td>\n",
       "      <td>3.528000e+01</td>\n",
       "    </tr>\n",
       "    <tr>\n",
       "      <td>75%</td>\n",
       "      <td>2.799050e+04</td>\n",
       "      <td>4.371667e+01</td>\n",
       "      <td>9.570354e+01</td>\n",
       "    </tr>\n",
       "    <tr>\n",
       "      <td>max</td>\n",
       "      <td>3.148050e+07</td>\n",
       "      <td>8.248333e+01</td>\n",
       "      <td>1.800000e+02</td>\n",
       "    </tr>\n",
       "  </tbody>\n",
       "</table>\n",
       "</div>"
      ],
      "text/plain": [
       "         Population      Latitude     Longitude\n",
       "count  4.798000e+04  3.173958e+06  3.173958e+06\n",
       "mean   4.771957e+04  2.718817e+01  3.708886e+01\n",
       "std    3.028887e+05  2.195262e+01  6.322302e+01\n",
       "min    7.000000e+00 -5.493333e+01 -1.799833e+02\n",
       "25%    3.732000e+03  1.163333e+01  7.303175e+00\n",
       "50%    1.077900e+04  3.249722e+01  3.528000e+01\n",
       "75%    2.799050e+04  4.371667e+01  9.570354e+01\n",
       "max    3.148050e+07  8.248333e+01  1.800000e+02"
      ]
     },
     "execution_count": 49,
     "metadata": {},
     "output_type": "execute_result"
    }
   ],
   "source": [
    "df.describe()"
   ]
  },
  {
   "cell_type": "markdown",
   "metadata": {},
   "source": [
    "Таким образом, гипотеза о том, что размер населения зависит от координат расположения (широта и долгота) города не подтвердилась. Поиск корреляций других показателей выборки между собой осложняется тем, что прочие параметры имеют строковые значения. Например, при попытке поиска корреляции между страной, городом и размером населения в нем, выходит ошибка (см. пример ниже)"
   ]
  },
  {
   "cell_type": "code",
   "execution_count": 51,
   "metadata": {},
   "outputs": [
    {
     "ename": "SyntaxError",
     "evalue": "unexpected EOF while parsing (<ipython-input-51-c2b0c5afb342>, line 1)",
     "output_type": "error",
     "traceback": [
      "\u001b[1;36m  File \u001b[1;32m\"<ipython-input-51-c2b0c5afb342>\"\u001b[1;36m, line \u001b[1;32m1\u001b[0m\n\u001b[1;33m    df[['Country', 'City', 'Population']].corr(\u001b[0m\n\u001b[1;37m                                               ^\u001b[0m\n\u001b[1;31mSyntaxError\u001b[0m\u001b[1;31m:\u001b[0m unexpected EOF while parsing\n"
     ]
    }
   ],
   "source": [
    "df[['Country', 'City', 'Population']].corr("
   ]
  },
  {
   "cell_type": "markdown",
   "metadata": {},
   "source": [
    "Подводя итог анализу рассматриваемой выборки, можно сказать, что зависимостей между показателями внутри нее не выявлено. Также необходимо отметить проблему, связанную с отсутствием данных по населению по значительному числу городов, что приводит к искажению статистик по показателю \"население\". Попытка заменить значения Nan в этом столбце на среднеарифметическое значение с помощью функции df.fillna(df.mean()) приводит к зависанию питона в виду большого числа строк в выборке (более 3.1 млн.).\n",
    "Уже после проведения данного анализа я решил вернуться к источнику данных и почитать комментарии автора. Судя по всему главной целью данного датасета было собрать координаты всех городов мира для последующего нанесения на некую самодельную карту, поэтому данные по атрибуту \"население\" не полные."
   ]
  }
 ],
 "metadata": {
  "colab": {
   "name": "Матстат - Урок 3.ipynb",
   "provenance": [],
   "version": "0.3.2"
  },
  "kernelspec": {
   "display_name": "Python 3",
   "language": "python",
   "name": "python3"
  },
  "language_info": {
   "codemirror_mode": {
    "name": "ipython",
    "version": 3
   },
   "file_extension": ".py",
   "mimetype": "text/x-python",
   "name": "python",
   "nbconvert_exporter": "python",
   "pygments_lexer": "ipython3",
   "version": "3.7.4"
  }
 },
 "nbformat": 4,
 "nbformat_minor": 1
}
